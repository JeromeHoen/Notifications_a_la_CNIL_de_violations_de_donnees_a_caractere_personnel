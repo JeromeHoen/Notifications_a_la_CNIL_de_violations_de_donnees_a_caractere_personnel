{
  "nbformat": 4,
  "nbformat_minor": 0,
  "metadata": {
    "colab": {
      "name": "CNIL.ipynb",
      "version": "0.3.2",
      "provenance": [],
      "collapsed_sections": [],
      "include_colab_link": true
    },
    "kernelspec": {
      "name": "python3",
      "display_name": "Python 3"
    }
  },
  "cells": [
    {
      "cell_type": "markdown",
      "metadata": {
        "id": "view-in-github",
        "colab_type": "text"
      },
      "source": [
        "<a href=\"https://colab.research.google.com/github/JeromeHoen/Notifications_a_la_CNIL_de_violations_de_donnees_a_caractere_personnel/blob/master/CNIL.ipynb\" target=\"_parent\"><img src=\"https://colab.research.google.com/assets/colab-badge.svg\" alt=\"Open In Colab\"/></a>"
      ]
    },
    {
      "cell_type": "code",
      "metadata": {
        "id": "dYDbCui8kcNb",
        "colab_type": "code",
        "colab": {}
      },
      "source": [
        "import pandas as pd"
      ],
      "execution_count": 0,
      "outputs": []
    },
    {
      "cell_type": "code",
      "metadata": {
        "id": "Oc-11u5qkySY",
        "colab_type": "code",
        "colab": {
          "base_uri": "https://localhost:8080/",
          "height": 462
        },
        "outputId": "78ee7739-e5ca-4a9a-d9d7-30bc9b7cde2b"
      },
      "source": [
        "df = pd.read_csv(\"https://www.data.gouv.fr/fr/datasets/r/4c176588-a444-4dc7-b6bf-60390ae7e5be\", encoding='utf-8', sep=';')\n",
        "df.head()"
      ],
      "execution_count": 147,
      "outputs": [
        {
          "output_type": "execute_result",
          "data": {
            "text/html": [
              "<div>\n",
              "<style scoped>\n",
              "    .dataframe tbody tr th:only-of-type {\n",
              "        vertical-align: middle;\n",
              "    }\n",
              "\n",
              "    .dataframe tbody tr th {\n",
              "        vertical-align: top;\n",
              "    }\n",
              "\n",
              "    .dataframe thead th {\n",
              "        text-align: right;\n",
              "    }\n",
              "</style>\n",
              "<table border=\"1\" class=\"dataframe\">\n",
              "  <thead>\n",
              "    <tr style=\"text-align: right;\">\n",
              "      <th></th>\n",
              "      <th>Date de réception de la notification</th>\n",
              "      <th>Secteur d'activité de l'organisme concerné</th>\n",
              "      <th>Natures de la violation</th>\n",
              "      <th>Nombre de personnes impactées</th>\n",
              "      <th>Typologie des données impactées</th>\n",
              "      <th>Données sensibles</th>\n",
              "      <th>Origine de l'incident</th>\n",
              "      <th>Causes de l'incident</th>\n",
              "      <th>Information des personnes</th>\n",
              "    </tr>\n",
              "  </thead>\n",
              "  <tbody>\n",
              "    <tr>\n",
              "      <th>0</th>\n",
              "      <td>mars-19</td>\n",
              "      <td>Activités spécialisées, scientifiques et techn...</td>\n",
              "      <td>Perte de la confidentialité</td>\n",
              "      <td>Entre 301 et 5000 personnes</td>\n",
              "      <td>Coordonnées (ex : adresse postale ou électroni...</td>\n",
              "      <td>NaN</td>\n",
              "      <td>Publication non volontaire d'informations</td>\n",
              "      <td>Acte interne accidentel</td>\n",
              "      <td>Oui, les personnes ont été informées</td>\n",
              "    </tr>\n",
              "    <tr>\n",
              "      <th>1</th>\n",
              "      <td>mars-19</td>\n",
              "      <td>Activités immobilières</td>\n",
              "      <td>Perte de la confidentialité</td>\n",
              "      <td>Entre 301 et 5000 personnes</td>\n",
              "      <td>Etat civil (ex : nom, sexe, date de naissance,...</td>\n",
              "      <td>NaN</td>\n",
              "      <td>Données personnelles envoyées à un mauvais des...</td>\n",
              "      <td>Acte interne accidentel</td>\n",
              "      <td>Non déterminé pour le moment</td>\n",
              "    </tr>\n",
              "    <tr>\n",
              "      <th>2</th>\n",
              "      <td>mars-19</td>\n",
              "      <td>Administration publique</td>\n",
              "      <td>Perte de la confidentialité</td>\n",
              "      <td>Entre 6 et 50 personnes</td>\n",
              "      <td>Etat civil (ex : nom, sexe, date de naissance,...</td>\n",
              "      <td>NaN</td>\n",
              "      <td>Données personnelles envoyées à un mauvais des...</td>\n",
              "      <td>Autre</td>\n",
              "      <td>Oui, les personnes ont été informées</td>\n",
              "    </tr>\n",
              "    <tr>\n",
              "      <th>3</th>\n",
              "      <td>mars-19</td>\n",
              "      <td>Activités financières et d''assurance</td>\n",
              "      <td>Perte de la confidentialité</td>\n",
              "      <td>Entre 0 et 5 personnes</td>\n",
              "      <td>Etat civil (ex : nom, sexe, date de naissance,...</td>\n",
              "      <td>NaN</td>\n",
              "      <td>Publication non volontaire d'informations,Donn...</td>\n",
              "      <td>Acte interne accidentel</td>\n",
              "      <td>Non, mais elles le seront</td>\n",
              "    </tr>\n",
              "    <tr>\n",
              "      <th>4</th>\n",
              "      <td>mars-19</td>\n",
              "      <td>Activités financières et d''assurance</td>\n",
              "      <td>Perte de la confidentialité</td>\n",
              "      <td>Entre 0 et 5 personnes</td>\n",
              "      <td>Etat civil (ex : nom, sexe, date de naissance,...</td>\n",
              "      <td>NaN</td>\n",
              "      <td>Publication non volontaire d'informations</td>\n",
              "      <td>Acte interne accidentel</td>\n",
              "      <td>Non ils ne le seront pas</td>\n",
              "    </tr>\n",
              "  </tbody>\n",
              "</table>\n",
              "</div>"
            ],
            "text/plain": [
              "  Date de réception de la notification  ...             Information des personnes\n",
              "0                              mars-19  ...  Oui, les personnes ont été informées\n",
              "1                              mars-19  ...          Non déterminé pour le moment\n",
              "2                              mars-19  ...  Oui, les personnes ont été informées\n",
              "3                              mars-19  ...             Non, mais elles le seront\n",
              "4                              mars-19  ...              Non ils ne le seront pas\n",
              "\n",
              "[5 rows x 9 columns]"
            ]
          },
          "metadata": {
            "tags": []
          },
          "execution_count": 147
        }
      ]
    },
    {
      "cell_type": "code",
      "metadata": {
        "id": "qiF6gkB4mSxe",
        "colab_type": "code",
        "colab": {
          "base_uri": "https://localhost:8080/",
          "height": 3227
        },
        "outputId": "f85bd359-7520-4c34-9127-624b56932ceb"
      },
      "source": [
        "for col in df.columns:\n",
        "    display(df[col].value_counts())"
      ],
      "execution_count": 8,
      "outputs": [
        {
          "output_type": "display_data",
          "data": {
            "text/plain": [
              "juin-18          322\n",
              "janv-19          204\n",
              "février 2019     173\n",
              "juil-18          167\n",
              "nov-18           157\n",
              "oct-18           149\n",
              "décembre 2018    128\n",
              "août 2018        127\n",
              "sept-18          103\n",
              "mars-19          103\n",
              "mai-18            17\n",
              "Name: Date de réception de la notification, dtype: int64"
            ]
          },
          "metadata": {
            "tags": []
          }
        },
        {
          "output_type": "display_data",
          "data": {
            "text/plain": [
              "Commerce ; réparation d''automobiles et de motocycles                                                                                                  241\n",
              "Activités financières et d''assurance                                                                                                                  215\n",
              "Activités spécialisées, scientifiques et techniques                                                                                                    215\n",
              "Hébergement et restauration                                                                                                                            195\n",
              "Administration publique                                                                                                                                151\n",
              "Information et communication                                                                                                                           149\n",
              "Autres activités de services                                                                                                                            81\n",
              "Industrie manufacturière                                                                                                                                79\n",
              "Enseignement                                                                                                                                            60\n",
              "Santé humaine et action sociale                                                                                                                         60\n",
              "Activités de services administratifs et de soutien                                                                                                      59\n",
              "Transports et entreposage                                                                                                                               41\n",
              "Activités immobilières                                                                                                                                  38\n",
              "Arts, spectacles et activités récréatives                                                                                                               23\n",
              "Production et distribution d''électricité, de gaz, de vapeur et d''air conditionné                                                                      11\n",
              "Inconnu                                                                                                                                                 10\n",
              "Production et distribution d''eau ; assainissement, gestion des déchets et dépollution                                                                   9\n",
              "Construction                                                                                                                                             8\n",
              "Agriculture, sylviculture et pêche                                                                                                                       3\n",
              "Activités extra-territoriales                                                                                                                            1\n",
              "Activités des ménages en tant qu''employeurs ; activités indifférenciées des ménages en tant que producteurs de biens et services pour usage propre      1\n",
              "Name: Secteur d'activité de l'organisme concerné, dtype: int64"
            ]
          },
          "metadata": {
            "tags": []
          }
        },
        {
          "output_type": "display_data",
          "data": {
            "text/plain": [
              "Perte de la confidentialité                                                   1366\n",
              "Perte de la confidentialité,Perte de la disponibilité                           82\n",
              "Perte de la disponibilité                                                       76\n",
              "Perte de la confidentialité,Perte de l'intégrité                                57\n",
              "Perte de la confidentialité,Perte de l'intégrité,Perte de la disponibilité      34\n",
              "Perte de l'intégrité                                                            22\n",
              "Perte de l'intégrité,Perte de la disponibilité                                  13\n",
              "Name: Natures de la violation, dtype: int64"
            ]
          },
          "metadata": {
            "tags": []
          }
        },
        {
          "output_type": "display_data",
          "data": {
            "text/plain": [
              "Entre 301 et 5000 personnes    465\n",
              "Entre 0 et 5 personnes         363\n",
              "Entre 51 et 300 personnes      347\n",
              "Entre 6 et 50 personnes        266\n",
              "Plus de 5000 personnes         209\n",
              "Name: Nombre de personnes impactées, dtype: int64"
            ]
          },
          "metadata": {
            "tags": []
          }
        },
        {
          "output_type": "display_data",
          "data": {
            "text/plain": [
              "Etat civil (ex : nom, sexe, date de naissance, âge...),Coordonnées (ex : adresse postale ou électronique, numéros de téléphone fixe ou portable...)                                                                                                                                                                                                                                                                                                                                                                                                                                          220\n",
              "Coordonnées (ex : adresse postale ou électronique, numéros de téléphone fixe ou portable...)                                                                                                                                                                                                                                                                                                                                                                                                                                                                                                 151\n",
              "Etat civil (ex : nom, sexe, date de naissance, âge...),Coordonnées (ex : adresse postale ou électronique, numéros de téléphone fixe ou portable...),Données d’identification ou d’accès (ex : identifiant, mot de passe, numéro client...)                                                                                                                                                                                                                                                                                                                                                   116\n",
              "Etat civil (ex : nom, sexe, date de naissance, âge...),Coordonnées (ex : adresse postale ou électronique, numéros de téléphone fixe ou portable...),Données relatives à des informations financières (ex : revenus, numéro de carte de crédit, coordonnées bancaires), économiques                                                                                                                                                                                                                                                                                                           103\n",
              "Etat civil (ex : nom, sexe, date de naissance, âge...),Coordonnées (ex : adresse postale ou électronique, numéros de téléphone fixe ou portable...),Données relatives à des informations financières (ex : revenus, numéro de carte de crédit, coordonnées bancaires), économiques,La violation concerne d'autres données                                                                                                                                                                                                                                                                     87\n",
              "Etat civil (ex : nom, sexe, date de naissance, âge...),Données relatives à des informations financières (ex : revenus, numéro de carte de crédit, coordonnées bancaires), économiques                                                                                                                                                                                                                                                                                                                                                                                                         77\n",
              "Données relatives à des informations financières (ex : revenus, numéro de carte de crédit, coordonnées bancaires), économiques                                                                                                                                                                                                                                                                                                                                                                                                                                                                64\n",
              "Etat civil (ex : nom, sexe, date de naissance, âge...),Coordonnées (ex : adresse postale ou électronique, numéros de téléphone fixe ou portable...),La violation concerne d'autres données                                                                                                                                                                                                                                                                                                                                                                                                    62\n",
              "Etat civil (ex : nom, sexe, date de naissance, âge...)                                                                                                                                                                                                                                                                                                                                                                                                                                                                                                                                        59\n",
              "Les données concernées ne sont pas connues pour le moment                                                                                                                                                                                                                                                                                                                                                                                                                                                                                                                                     50\n",
              "Etat civil (ex : nom, sexe, date de naissance, âge...),Coordonnées (ex : adresse postale ou électronique, numéros de téléphone fixe ou portable...),Données d’identification ou d’accès (ex : identifiant, mot de passe, numéro client...),Données relatives à des informations financières (ex : revenus, numéro de carte de crédit, coordonnées bancaires), économiques                                                                                                                                                                                                                     50\n",
              "Données d’identification ou d’accès (ex : identifiant, mot de passe, numéro client...)                                                                                                                                                                                                                                                                                                                                                                                                                                                                                                        40\n",
              "Coordonnées (ex : adresse postale ou électronique, numéros de téléphone fixe ou portable...),Données d’identification ou d’accès (ex : identifiant, mot de passe, numéro client...)                                                                                                                                                                                                                                                                                                                                                                                                           39\n",
              "Etat civil (ex : nom, sexe, date de naissance, âge...),NIR (Numéro d'Inscription au Répertoire),Coordonnées (ex : adresse postale ou électronique, numéros de téléphone fixe ou portable...),Données relatives à des informations financières (ex : revenus, numéro de carte de crédit, coordonnées bancaires), économiques                                                                                                                                                                                                                                                                   37\n",
              "La violation concerne d'autres données                                                                                                                                                                                                                                                                                                                                                                                                                                                                                                                                                        33\n",
              "Etat civil (ex : nom, sexe, date de naissance, âge...),Données d’identification ou d’accès (ex : identifiant, mot de passe, numéro client...),Données relatives à des informations financières (ex : revenus, numéro de carte de crédit, coordonnées bancaires), économiques                                                                                                                                                                                                                                                                                                                  30\n",
              "Etat civil (ex : nom, sexe, date de naissance, âge...),Coordonnées (ex : adresse postale ou électronique, numéros de téléphone fixe ou portable...),Données d’identification ou d’accès (ex : identifiant, mot de passe, numéro client...),La violation concerne d'autres données                                                                                                                                                                                                                                                                                                             27\n",
              "Etat civil (ex : nom, sexe, date de naissance, âge...),La violation concerne d'autres données                                                                                                                                                                                                                                                                                                                                                                                                                                                                                                 27\n",
              "Etat civil (ex : nom, sexe, date de naissance, âge...),Coordonnées (ex : adresse postale ou électronique, numéros de téléphone fixe ou portable...),Données de localisation                                                                                                                                                                                                                                                                                                                                                                                                                   25\n",
              "Etat civil (ex : nom, sexe, date de naissance, âge...),Coordonnées (ex : adresse postale ou électronique, numéros de téléphone fixe ou portable...),Données relatives à des informations financières (ex : revenus, numéro de carte de crédit, coordonnées bancaires), économiques,Documents officiels (Passeports, pièces d’identité, etc.)                                                                                                                                                                                                                                                  16\n",
              "Etat civil (ex : nom, sexe, date de naissance, âge...),Données d’identification ou d’accès (ex : identifiant, mot de passe, numéro client...)                                                                                                                                                                                                                                                                                                                                                                                                                                                 14\n",
              "Etat civil (ex : nom, sexe, date de naissance, âge...),NIR (Numéro d'Inscription au Répertoire),Coordonnées (ex : adresse postale ou électronique, numéros de téléphone fixe ou portable...)                                                                                                                                                                                                                                                                                                                                                                                                  13\n",
              "Etat civil (ex : nom, sexe, date de naissance, âge...),Coordonnées (ex : adresse postale ou électronique, numéros de téléphone fixe ou portable...),Données d’identification ou d’accès (ex : identifiant, mot de passe, numéro client...),Données relatives à des informations financières (ex : revenus, numéro de carte de crédit, coordonnées bancaires), économiques,Documents officiels (Passeports, pièces d’identité, etc.)                                                                                                                                                           13\n",
              "Etat civil (ex : nom, sexe, date de naissance, âge...),Coordonnées (ex : adresse postale ou électronique, numéros de téléphone fixe ou portable...),Documents officiels (Passeports, pièces d’identité, etc.)                                                                                                                                                                                                                                                                                                                                                                                 13\n",
              "Coordonnées (ex : adresse postale ou électronique, numéros de téléphone fixe ou portable...),Données relatives à des informations financières (ex : revenus, numéro de carte de crédit, coordonnées bancaires), économiques                                                                                                                                                                                                                                                                                                                                                                   12\n",
              "Etat civil (ex : nom, sexe, date de naissance, âge...),NIR (Numéro d'Inscription au Répertoire),Coordonnées (ex : adresse postale ou électronique, numéros de téléphone fixe ou portable...),Données relatives à des informations financières (ex : revenus, numéro de carte de crédit, coordonnées bancaires), économiques,Documents officiels (Passeports, pièces d’identité, etc.)                                                                                                                                                                                                         10\n",
              "Etat civil (ex : nom, sexe, date de naissance, âge...),NIR (Numéro d'Inscription au Répertoire),Coordonnées (ex : adresse postale ou électronique, numéros de téléphone fixe ou portable...),Données d’identification ou d’accès (ex : identifiant, mot de passe, numéro client...),Données relatives à des informations financières (ex : revenus, numéro de carte de crédit, coordonnées bancaires), économiques                                                                                                                                                                             9\n",
              "Etat civil (ex : nom, sexe, date de naissance, âge...),Coordonnées (ex : adresse postale ou électronique, numéros de téléphone fixe ou portable...),Données d’identification ou d’accès (ex : identifiant, mot de passe, numéro client...),Données de localisation                                                                                                                                                                                                                                                                                                                             9\n",
              "Etat civil (ex : nom, sexe, date de naissance, âge...),NIR (Numéro d'Inscription au Répertoire),Coordonnées (ex : adresse postale ou électronique, numéros de téléphone fixe ou portable...),Données d’identification ou d’accès (ex : identifiant, mot de passe, numéro client...),Données relatives à des informations financières (ex : revenus, numéro de carte de crédit, coordonnées bancaires), économiques,Documents officiels (Passeports, pièces d’identité, etc.)                                                                                                                   9\n",
              "Etat civil (ex : nom, sexe, date de naissance, âge...),Données d’identification ou d’accès (ex : identifiant, mot de passe, numéro client...),La violation concerne d'autres données                                                                                                                                                                                                                                                                                                                                                                                                           8\n",
              "                                                                                                                                                                                                                                                                                                                                                                                                                                                                                                                                                                                            ... \n",
              "Etat civil (ex : nom, sexe, date de naissance, âge...),Données relatives à des informations financières (ex : revenus, numéro de carte de crédit, coordonnées bancaires), économiques,Données de localisation,Données relatives à des infractions, condamnations, mesures de sûreté                                                                                                                                                                                                                                                                                                            1\n",
              "NIR (Numéro d'Inscription au Répertoire),Coordonnées (ex : adresse postale ou électronique, numéros de téléphone fixe ou portable...),Les données concernées ne sont pas connues pour le moment                                                                                                                                                                                                                                                                                                                                                                                                1\n",
              "Etat civil (ex : nom, sexe, date de naissance, âge...),Coordonnées (ex : adresse postale ou électronique, numéros de téléphone fixe ou portable...),Données d’identification ou d’accès (ex : identifiant, mot de passe, numéro client...),Données relatives à des informations financières (ex : revenus, numéro de carte de crédit, coordonnées bancaires), économiques,Données de localisation,Les données concernées ne sont pas connues pour le moment                                                                                                                                    1\n",
              "Données de localisation,La violation concerne d'autres données                                                                                                                                                                                                                                                                                                                                                                                                                                                                                                                                 1\n",
              "Etat civil (ex : nom, sexe, date de naissance, âge...),NIR (Numéro d'Inscription au Répertoire),Coordonnées (ex : adresse postale ou électronique, numéros de téléphone fixe ou portable...),Données de localisation                                                                                                                                                                                                                                                                                                                                                                           1\n",
              "Etat civil (ex : nom, sexe, date de naissance, âge...),Documents officiels (Passeports, pièces d’identité, etc.)                                                                                                                                                                                                                                                                                                                                                                                                                                                                               1\n",
              "Etat civil (ex : nom, sexe, date de naissance, âge...),NIR (Numéro d'Inscription au Répertoire),Coordonnées (ex : adresse postale ou électronique, numéros de téléphone fixe ou portable...),Données relatives à des informations financières (ex : revenus, numéro de carte de crédit, coordonnées bancaires), économiques,Les données concernées ne sont pas connues pour le moment                                                                                                                                                                                                          1\n",
              "Etat civil (ex : nom, sexe, date de naissance, âge...),Coordonnées (ex : adresse postale ou électronique, numéros de téléphone fixe ou portable...),Données d’identification ou d’accès (ex : identifiant, mot de passe, numéro client...),Documents officiels (Passeports, pièces d’identité, etc.),Données de localisation,La violation concerne d'autres données                                                                                                                                                                                                                            1\n",
              "Etat civil (ex : nom, sexe, date de naissance, âge...),Coordonnées (ex : adresse postale ou électronique, numéros de téléphone fixe ou portable...),Données relatives à des informations financières (ex : revenus, numéro de carte de crédit, coordonnées bancaires), économiques,Documents officiels (Passeports, pièces d’identité, etc.),Données de localisation,Les données concernées ne sont pas connues pour le moment                                                                                                                                                                 1\n",
              "Etat civil (ex : nom, sexe, date de naissance, âge...),Coordonnées (ex : adresse postale ou électronique, numéros de téléphone fixe ou portable...),Données de localisation,La violation concerne d'autres données                                                                                                                                                                                                                                                                                                                                                                             1\n",
              "Etat civil (ex : nom, sexe, date de naissance, âge...),Coordonnées (ex : adresse postale ou électronique, numéros de téléphone fixe ou portable...),Données d’identification ou d’accès (ex : identifiant, mot de passe, numéro client...),Données relatives à des informations financières (ex : revenus, numéro de carte de crédit, coordonnées bancaires), économiques,Documents officiels (Passeports, pièces d’identité, etc.),La violation concerne d'autres données                                                                                                                     1\n",
              "Etat civil (ex : nom, sexe, date de naissance, âge...),Coordonnées (ex : adresse postale ou électronique, numéros de téléphone fixe ou portable...),Données d’identification ou d’accès (ex : identifiant, mot de passe, numéro client...),Données relatives à des informations financières (ex : revenus, numéro de carte de crédit, coordonnées bancaires), économiques,Documents officiels (Passeports, pièces d’identité, etc.),Données de localisation,Données relatives à des infractions, condamnations, mesures de sûreté                                                              1\n",
              "Etat civil (ex : nom, sexe, date de naissance, âge...),NIR (Numéro d'Inscription au Répertoire),Coordonnées (ex : adresse postale ou électronique, numéros de téléphone fixe ou portable...),Documents officiels (Passeports, pièces d’identité, etc.),La violation concerne d'autres données                                                                                                                                                                                                                                                                                                  1\n",
              "Coordonnées (ex : adresse postale ou électronique, numéros de téléphone fixe ou portable...),Données de localisation                                                                                                                                                                                                                                                                                                                                                                                                                                                                           1\n",
              "Etat civil (ex : nom, sexe, date de naissance, âge...),Coordonnées (ex : adresse postale ou électronique, numéros de téléphone fixe ou portable...),Données relatives à des informations financières (ex : revenus, numéro de carte de crédit, coordonnées bancaires), économiques,Documents officiels (Passeports, pièces d’identité, etc.),Données de localisation,La violation concerne d'autres données                                                                                                                                                                                    1\n",
              "NIR (Numéro d'Inscription au Répertoire),Données d’identification ou d’accès (ex : identifiant, mot de passe, numéro client...)                                                                                                                                                                                                                                                                                                                                                                                                                                                                1\n",
              "Etat civil (ex : nom, sexe, date de naissance, âge...),Les données concernées ne sont pas connues pour le moment                                                                                                                                                                                                                                                                                                                                                                                                                                                                               1\n",
              "Etat civil (ex : nom, sexe, date de naissance, âge...),NIR (Numéro d'Inscription au Répertoire),Coordonnées (ex : adresse postale ou électronique, numéros de téléphone fixe ou portable...),Données d’identification ou d’accès (ex : identifiant, mot de passe, numéro client...),Les données concernées ne sont pas connues pour le moment                                                                                                                                                                                                                                                  1\n",
              "Coordonnées (ex : adresse postale ou électronique, numéros de téléphone fixe ou portable...),Les données concernées ne sont pas connues pour le moment,La violation concerne d'autres données                                                                                                                                                                                                                                                                                                                                                                                                  1\n",
              "Coordonnées (ex : adresse postale ou électronique, numéros de téléphone fixe ou portable...),Données d’identification ou d’accès (ex : identifiant, mot de passe, numéro client...),Données relatives à des informations financières (ex : revenus, numéro de carte de crédit, coordonnées bancaires), économiques,Données de localisation                                                                                                                                                                                                                                                     1\n",
              "Etat civil (ex : nom, sexe, date de naissance, âge...),Coordonnées (ex : adresse postale ou électronique, numéros de téléphone fixe ou portable...),Données relatives à des infractions, condamnations, mesures de sûreté,La violation concerne d'autres données                                                                                                                                                                                                                                                                                                                               1\n",
              "Etat civil (ex : nom, sexe, date de naissance, âge...),NIR (Numéro d'Inscription au Répertoire),Coordonnées (ex : adresse postale ou électronique, numéros de téléphone fixe ou portable...),Données relatives à des informations financières (ex : revenus, numéro de carte de crédit, coordonnées bancaires), économiques,Documents officiels (Passeports, pièces d’identité, etc.),Les données concernées ne sont pas connues pour le moment                                                                                                                                                1\n",
              "Etat civil (ex : nom, sexe, date de naissance, âge...),Coordonnées (ex : adresse postale ou électronique, numéros de téléphone fixe ou portable...),Données d’identification ou d’accès (ex : identifiant, mot de passe, numéro client...),Documents officiels (Passeports, pièces d’identité, etc.),La violation concerne d'autres données                                                                                                                                                                                                                                                    1\n",
              "Coordonnées (ex : adresse postale ou électronique, numéros de téléphone fixe ou portable...),Données d’identification ou d’accès (ex : identifiant, mot de passe, numéro client...),Données relatives à des informations financières (ex : revenus, numéro de carte de crédit, coordonnées bancaires), économiques,Les données concernées ne sont pas connues pour le moment                                                                                                                                                                                                                   1\n",
              "Coordonnées (ex : adresse postale ou électronique, numéros de téléphone fixe ou portable...),Données d’identification ou d’accès (ex : identifiant, mot de passe, numéro client...),Documents officiels (Passeports, pièces d’identité, etc.),Données de localisation                                                                                                                                                                                                                                                                                                                          1\n",
              "Etat civil (ex : nom, sexe, date de naissance, âge...),NIR (Numéro d'Inscription au Répertoire),Coordonnées (ex : adresse postale ou électronique, numéros de téléphone fixe ou portable...),Données d’identification ou d’accès (ex : identifiant, mot de passe, numéro client...),Données relatives à des informations financières (ex : revenus, numéro de carte de crédit, coordonnées bancaires), économiques,Documents officiels (Passeports, pièces d’identité, etc.),Données relatives à des infractions, condamnations, mesures de sûreté,La violation concerne d'autres données      1\n",
              "Etat civil (ex : nom, sexe, date de naissance, âge...),NIR (Numéro d'Inscription au Répertoire),Coordonnées (ex : adresse postale ou électronique, numéros de téléphone fixe ou portable...),Données d’identification ou d’accès (ex : identifiant, mot de passe, numéro client...),Données relatives à des informations financières (ex : revenus, numéro de carte de crédit, coordonnées bancaires), économiques,Documents officiels (Passeports, pièces d’identité, etc.),Les données concernées ne sont pas connues pour le moment                                                         1\n",
              "NIR (Numéro d'Inscription au Répertoire),Coordonnées (ex : adresse postale ou électronique, numéros de téléphone fixe ou portable...),Données d’identification ou d’accès (ex : identifiant, mot de passe, numéro client...),Données relatives à des informations financières (ex : revenus, numéro de carte de crédit, coordonnées bancaires), économiques                                                                                                                                                                                                                                    1\n",
              "Etat civil (ex : nom, sexe, date de naissance, âge...),Coordonnées (ex : adresse postale ou électronique, numéros de téléphone fixe ou portable...),Données relatives à des informations financières (ex : revenus, numéro de carte de crédit, coordonnées bancaires), économiques,Documents officiels (Passeports, pièces d’identité, etc.),Les données concernées ne sont pas connues pour le moment,La violation concerne d'autres données                                                                                                                                                  1\n",
              "Etat civil (ex : nom, sexe, date de naissance, âge...),NIR (Numéro d'Inscription au Répertoire),Coordonnées (ex : adresse postale ou électronique, numéros de téléphone fixe ou portable...),Données d’identification ou d’accès (ex : identifiant, mot de passe, numéro client...),Données relatives à des informations financières (ex : revenus, numéro de carte de crédit, coordonnées bancaires), économiques,La violation concerne d'autres données                                                                                                                                      1\n",
              "Name: Typologie des données impactées, Length: 131, dtype: int64"
            ]
          },
          "metadata": {
            "tags": []
          }
        },
        {
          "output_type": "display_data",
          "data": {
            "text/plain": [
              "Oui    156\n",
              "Name: Données sensibles, dtype: int64"
            ]
          },
          "metadata": {
            "tags": []
          }
        },
        {
          "output_type": "display_data",
          "data": {
            "text/plain": [
              "Piratage, logiciel malveillant (par exemple rançongiciel) et/ou hameçonnage                                                                                                                                                                                                                                                                                                                                                                                                                                                                                       724\n",
              "Autre                                                                                                                                                                                                                                                                                                                                                                                                                                                                                                                                                             274\n",
              "Données personnelles envoyées à un mauvais destinataire                                                                                                                                                                                                                                                                                                                                                                                                                                                                                                           186\n",
              "Equipement perdu ou volé                                                                                                                                                                                                                                                                                                                                                                                                                                                                                                                                          137\n",
              "Publication non volontaire d'informations                                                                                                                                                                                                                                                                                                                                                                                                                                                                                                                         135\n",
              "Données de la mauvaise personne affichées sur le portail du client                                                                                                                                                                                                                                                                                                                                                                                                                                                                                                 41\n",
              "Papier perdu, volé ou laissé accessible dans un endroit non sécurisé                                                                                                                                                                                                                                                                                                                                                                                                                                                                                               28\n",
              "Publication non volontaire d'informations,Données personnelles envoyées à un mauvais destinataire                                                                                                                                                                                                                                                                                                                                                                                                                                                                  22\n",
              "Equipement perdu ou volé,Papier perdu, volé ou laissé accessible dans un endroit non sécurisé                                                                                                                                                                                                                                                                                                                                                                                                                                                                      15\n",
              "Piratage, logiciel malveillant (par exemple rançongiciel) et/ou hameçonnage,Autre                                                                                                                                                                                                                                                                                                                                                                                                                                                                                  13\n",
              "Piratage, logiciel malveillant (par exemple rançongiciel) et/ou hameçonnage,Publication non volontaire d'informations                                                                                                                                                                                                                                                                                                                                                                                                                                               8\n",
              "Courrier perdu ou ouvert avant d'être retourné à l'envoyeur                                                                                                                                                                                                                                                                                                                                                                                                                                                                                                         8\n",
              "Informations personnelles divulguées de façon verbale                                                                                                                                                                                                                                                                                                                                                                                                                                                                                                               6\n",
              "Publication non volontaire d'informations,Autre                                                                                                                                                                                                                                                                                                                                                                                                                                                                                                                     6\n",
              "Publication non volontaire d'informations,Données de la mauvaise personne affichées sur le portail du client                                                                                                                                                                                                                                                                                                                                                                                                                                                        6\n",
              "Données de la mauvaise personne affichées sur le portail du client,Données personnelles envoyées à un mauvais destinataire                                                                                                                                                                                                                                                                                                                                                                                                                                          5\n",
              "Informations personnelles divulguées de façon verbale,Autre                                                                                                                                                                                                                                                                                                                                                                                                                                                                                                         3\n",
              "Mise au rebut de documents papier contenant des données personnelles sans destruction physique                                                                                                                                                                                                                                                                                                                                                                                                                                                                      3\n",
              "Données personnelles envoyées à un mauvais destinataire,Autre                                                                                                                                                                                                                                                                                                                                                                                                                                                                                                       3\n",
              "Piratage, logiciel malveillant (par exemple rançongiciel) et/ou hameçonnage,Informations personnelles divulguées de façon verbale                                                                                                                                                                                                                                                                                                                                                                                                                                   3\n",
              "Equipement perdu ou volé,Piratage, logiciel malveillant (par exemple rançongiciel) et/ou hameçonnage                                                                                                                                                                                                                                                                                                                                                                                                                                                                2\n",
              "Papier perdu, volé ou laissé accessible dans un endroit non sécurisé,Mise au rebut de documents papier contenant des données personnelles sans destruction physique                                                                                                                                                                                                                                                                                                                                                                                                 2\n",
              "Equipement perdu ou volé,Courrier perdu ou ouvert avant d'être retourné à l'envoyeur                                                                                                                                                                                                                                                                                                                                                                                                                                                                                2\n",
              "Equipement perdu ou volé,Piratage, logiciel malveillant (par exemple rançongiciel) et/ou hameçonnage,Données de la mauvaise personne affichées sur le portail du client                                                                                                                                                                                                                                                                                                                                                                                             1\n",
              "Equipement perdu ou volé,Courrier perdu ou ouvert avant d'être retourné à l'envoyeur,Piratage, logiciel malveillant (par exemple rançongiciel) et/ou hameçonnage                                                                                                                                                                                                                                                                                                                                                                                                    1\n",
              "Données personnelles envoyées à un mauvais destinataire,Informations personnelles divulguées de façon verbale                                                                                                                                                                                                                                                                                                                                                                                                                                                       1\n",
              "Courrier perdu ou ouvert avant d'être retourné à l'envoyeur,Piratage, logiciel malveillant (par exemple rançongiciel) et/ou hameçonnage,Publication non volontaire d'informations,Données personnelles envoyées à un mauvais destinataire                                                                                                                                                                                                                                                                                                                           1\n",
              "Equipement perdu ou volé,Papier perdu, volé ou laissé accessible dans un endroit non sécurisé,Courrier perdu ou ouvert avant d'être retourné à l'envoyeur,Piratage, logiciel malveillant (par exemple rançongiciel) et/ou hameçonnage,Mise au rebut de documents papier contenant des données personnelles sans destruction physique,Mise au rebut d’appareils numériques contenant des données personnelles sans effacement sécurisé,Données de la mauvaise personne affichées sur le portail du client,Informations personnelles divulguées de façon verbale      1\n",
              "Piratage, logiciel malveillant (par exemple rançongiciel) et/ou hameçonnage,Mise au rebut d’appareils numériques contenant des données personnelles sans effacement sécurisé,Données de la mauvaise personne affichées sur le portail du client,Autre                                                                                                                                                                                                                                                                                                               1\n",
              "Données de la mauvaise personne affichées sur le portail du client,Autre                                                                                                                                                                                                                                                                                                                                                                                                                                                                                            1\n",
              "Piratage, logiciel malveillant (par exemple rançongiciel) et/ou hameçonnage,Mise au rebut d’appareils numériques contenant des données personnelles sans effacement sécurisé                                                                                                                                                                                                                                                                                                                                                                                        1\n",
              "Papier perdu, volé ou laissé accessible dans un endroit non sécurisé,Piratage, logiciel malveillant (par exemple rançongiciel) et/ou hameçonnage                                                                                                                                                                                                                                                                                                                                                                                                                    1\n",
              "Piratage, logiciel malveillant (par exemple rançongiciel) et/ou hameçonnage,Données personnelles envoyées à un mauvais destinataire,Informations personnelles divulguées de façon verbale                                                                                                                                                                                                                                                                                                                                                                           1\n",
              "Papier perdu, volé ou laissé accessible dans un endroit non sécurisé,Autre                                                                                                                                                                                                                                                                                                                                                                                                                                                                                          1\n",
              "Equipement perdu ou volé,Données personnelles envoyées à un mauvais destinataire                                                                                                                                                                                                                                                                                                                                                                                                                                                                                    1\n",
              "Piratage, logiciel malveillant (par exemple rançongiciel) et/ou hameçonnage,Données personnelles envoyées à un mauvais destinataire                                                                                                                                                                                                                                                                                                                                                                                                                                 1\n",
              "Données de la mauvaise personne affichées sur le portail du client,Données personnelles envoyées à un mauvais destinataire,Autre                                                                                                                                                                                                                                                                                                                                                                                                                                    1\n",
              "Equipement perdu ou volé,Courrier perdu ou ouvert avant d'être retourné à l'envoyeur,Autre                                                                                                                                                                                                                                                                                                                                                                                                                                                                          1\n",
              "Mise au rebut d’appareils numériques contenant des données personnelles sans effacement sécurisé                                                                                                                                                                                                                                                                                                                                                                                                                                                                    1\n",
              "Papier perdu, volé ou laissé accessible dans un endroit non sécurisé,Courrier perdu ou ouvert avant d'être retourné à l'envoyeur,Données personnelles envoyées à un mauvais destinataire,Informations personnelles divulguées de façon verbale                                                                                                                                                                                                                                                                                                                      1\n",
              "Publication non volontaire d'informations,Données personnelles envoyées à un mauvais destinataire,Autre                                                                                                                                                                                                                                                                                                                                                                                                                                                             1\n",
              "Name: Origine de l'incident, dtype: int64"
            ]
          },
          "metadata": {
            "tags": []
          }
        },
        {
          "output_type": "display_data",
          "data": {
            "text/plain": [
              "Acte externe malveillant                                                     855\n",
              "Acte interne accidentel                                                      326\n",
              "Inconnu                                                                      126\n",
              "Autre                                                                         91\n",
              "Acte externe accidentel                                                       88\n",
              "Acte interne malveillant                                                      62\n",
              "Acte interne accidentel,Autre                                                 20\n",
              "Acte interne accidentel,Acte externe malveillant                              17\n",
              "Acte interne malveillant,Acte externe malveillant                             16\n",
              "Acte externe malveillant,Acte externe accidentel                              12\n",
              "Acte externe malveillant,Inconnu                                              11\n",
              "Acte externe malveillant,Autre                                                 6\n",
              "Acte interne malveillant,Acte interne accidentel                               4\n",
              "Acte interne accidentel,Acte externe accidentel                                3\n",
              "Inconnu,Autre                                                                  3\n",
              "Acte externe accidentel,Autre                                                  2\n",
              "Acte interne malveillant,Acte externe malveillant,Inconnu,Autre                1\n",
              "Acte interne malveillant,Acte interne accidentel,Acte externe malveillant      1\n",
              "Acte externe accidentel,Inconnu                                                1\n",
              "Acte interne malveillant,Acte externe accidentel                               1\n",
              "Acte interne malveillant,Acte interne accidentel,Autre                         1\n",
              "Acte interne accidentel,Inconnu                                                1\n",
              "Acte interne malveillant,Inconnu                                               1\n",
              "Acte interne malveillant,Acte externe malveillant,Autre                        1\n",
              "Name: Causes de l'incident, dtype: int64"
            ]
          },
          "metadata": {
            "tags": []
          }
        },
        {
          "output_type": "display_data",
          "data": {
            "text/plain": [
              "Non déterminé pour le moment            552\n",
              "Non, mais elles le seront               489\n",
              "Oui, les personnes ont été informées    411\n",
              "Non ils ne le seront pas                198\n",
              "Name: Information des personnes, dtype: int64"
            ]
          },
          "metadata": {
            "tags": []
          }
        }
      ]
    },
    {
      "cell_type": "code",
      "metadata": {
        "id": "vgDXFAXTNrIX",
        "colab_type": "code",
        "colab": {}
      },
      "source": [
        "string_columns = df.select_dtypes(include='object').columns\n",
        "for col in string_columns:\n",
        "    df[col] = df[col].str.replace(\"''\", \"'\").str.replace(\"’\", \"'\")"
      ],
      "execution_count": 0,
      "outputs": []
    },
    {
      "cell_type": "code",
      "metadata": {
        "id": "zh2-2EYV4Avv",
        "colab_type": "code",
        "colab": {}
      },
      "source": [
        "df = df.fillna(\"Inconnu\")"
      ],
      "execution_count": 0,
      "outputs": []
    },
    {
      "cell_type": "code",
      "metadata": {
        "id": "X3fQS5R1ohdh",
        "colab_type": "code",
        "colab": {}
      },
      "source": [
        "def series_to_count(series, split_character=\",\", ascending=False, return_dtype=None, skipna=True):\n",
        "    \"\"\"Return a pandas Series with each element counted after a split element-wise\"\"\"\n",
        "    \n",
        "    if not hasattr(series, \"apply\") or not hasattr(series, \"name\"):\n",
        "        raise TypeError('Not a pandas Series')\n",
        "    else:\n",
        "        if split_character:\n",
        "            tmp_series = series.apply(lambda s: s.split(split_character) if isinstance(s, str) else s)\n",
        "        else:\n",
        "            tmp_series = series.apply(lambda s: list(s) if isinstance(s, str) else s)\n",
        "        count_dict = {}\n",
        "        for row in tmp_series:\n",
        "            if isinstance(row, list):\n",
        "                for elt in row:\n",
        "                    if elt in count_dict:\n",
        "                        count_dict[elt] += 1\n",
        "                    else:\n",
        "                        count_dict[elt] = 1\n",
        "            elif not skipna:\n",
        "                if row in count_dict:\n",
        "                    count_dict[row] += 1\n",
        "                else:\n",
        "                    count_dict[row] = 1\n",
        "        return pd.Series(count_dict, index=sorted(count_dict, key=count_dict.get, reverse=not ascending), dtype=return_dtype, name=series.name)"
      ],
      "execution_count": 0,
      "outputs": []
    },
    {
      "cell_type": "code",
      "metadata": {
        "id": "RTLQkEMuolxG",
        "colab_type": "code",
        "colab": {
          "base_uri": "https://localhost:8080/",
          "height": 87
        },
        "outputId": "ae8b5e3f-237f-4863-eef5-77fc63e57769"
      },
      "source": [
        "violation = series_to_count(df['Natures de la violation'])\n",
        "violation"
      ],
      "execution_count": 100,
      "outputs": [
        {
          "output_type": "execute_result",
          "data": {
            "text/plain": [
              "Perte de la confidentialité    1539\n",
              "Perte de la disponibilité       205\n",
              "Perte de l'intégrité            126\n",
              "Name: Natures de la violation, dtype: int64"
            ]
          },
          "metadata": {
            "tags": []
          },
          "execution_count": 100
        }
      ]
    },
    {
      "cell_type": "code",
      "metadata": {
        "id": "OmaDI432qLCr",
        "colab_type": "code",
        "colab": {}
      },
      "source": [
        "def remove_text_inside_brackets(text, brackets=\"()[]\"):\n",
        "    count = [0] * (len(brackets) // 2) # count open/close brackets\n",
        "    saved_chars = []\n",
        "    for character in text:\n",
        "        for i, b in enumerate(brackets):\n",
        "            if character == b: # found bracket\n",
        "                kind, is_close = divmod(i, 2)\n",
        "                count[kind] += (-1)**is_close # `+1`: open, `-1`: close\n",
        "                if count[kind] < 0: # unbalanced bracket\n",
        "                    count[kind] = 0  # keep it\n",
        "                else:  # found bracket to remove\n",
        "                    break\n",
        "        else: # character is not a [balanced] bracket\n",
        "            if not any(count): # outside brackets\n",
        "                saved_chars.append(character)\n",
        "    return ''.join(saved_chars)"
      ],
      "execution_count": 0,
      "outputs": []
    },
    {
      "cell_type": "code",
      "metadata": {
        "id": "admmFE3eo45x",
        "colab_type": "code",
        "colab": {}
      },
      "source": [
        "cleaned_typologie = df['Typologie des données impactées'].apply(remove_text_inside_brackets)"
      ],
      "execution_count": 0,
      "outputs": []
    },
    {
      "cell_type": "code",
      "metadata": {
        "id": "JtOOIVx3qhqn",
        "colab_type": "code",
        "colab": {
          "base_uri": "https://localhost:8080/",
          "height": 1092
        },
        "outputId": "38a26efc-01bc-4d49-d29d-aaabf3cc5c47"
      },
      "source": [
        "cleaned_typologie"
      ],
      "execution_count": 102,
      "outputs": [
        {
          "output_type": "execute_result",
          "data": {
            "text/plain": [
              "0                                            Coordonnées \n",
              "1       Etat civil ,Coordonnées ,Données d'identificat...\n",
              "2       Etat civil ,Coordonnées ,Données d'identificat...\n",
              "3       Etat civil ,Coordonnées ,Données relatives à d...\n",
              "4       Etat civil ,La violation concerne d'autres don...\n",
              "5                                Etat civil ,Coordonnées \n",
              "6       Etat civil ,Coordonnées ,Données relatives à d...\n",
              "7                                Etat civil ,Coordonnées \n",
              "8                  La violation concerne d'autres données\n",
              "9       Etat civil ,Coordonnées ,Données d'identificat...\n",
              "10                                                Inconnu\n",
              "11                 La violation concerne d'autres données\n",
              "12      Etat civil ,Coordonnées ,Données relatives à d...\n",
              "13      Coordonnées ,Données relatives à des informati...\n",
              "14          Etat civil ,Coordonnées ,Documents officiels \n",
              "15      Etat civil ,NIR ,Données d'identification ou d...\n",
              "16      Etat civil ,NIR ,Coordonnées ,Données relative...\n",
              "17      Etat civil ,NIR ,Coordonnées ,Données relative...\n",
              "18      Etat civil ,Coordonnées ,Données d'identificat...\n",
              "19                               Etat civil ,Coordonnées \n",
              "20      Etat civil ,Coordonnées ,Données relatives à d...\n",
              "21      Etat civil ,NIR ,Coordonnées ,Données relative...\n",
              "22      Etat civil ,NIR ,Coordonnées ,Données d'identi...\n",
              "23                                           Coordonnées \n",
              "24                 La violation concerne d'autres données\n",
              "25      Données relatives à des informations financièr...\n",
              "26      Etat civil ,Coordonnées ,Données relatives à d...\n",
              "27      Etat civil ,Coordonnées ,Données d'identificat...\n",
              "28                          Etat civil ,NIR ,Coordonnées \n",
              "29      Les données concernées ne sont pas connues pou...\n",
              "                              ...                        \n",
              "1620    Les données concernées ne sont pas connues pou...\n",
              "1621                                         Coordonnées \n",
              "1622    Etat civil ,Coordonnées ,Données d'identificat...\n",
              "1623                                         Coordonnées \n",
              "1624                                              Inconnu\n",
              "1625     Etat civil ,Coordonnées ,Données de localisation\n",
              "1626     Etat civil ,Coordonnées ,Données de localisation\n",
              "1627    Etat civil ,Coordonnées ,Données d'identificat...\n",
              "1628                             Etat civil ,Coordonnées \n",
              "1629    Etat civil ,Coordonnées ,Données relatives à d...\n",
              "1630                                          Etat civil \n",
              "1631    Etat civil ,NIR ,Coordonnées ,Données d'identi...\n",
              "1632    Etat civil ,Coordonnées ,Données relatives à d...\n",
              "1633                                         Coordonnées \n",
              "1634    Etat civil ,Coordonnées ,Données d'identificat...\n",
              "1635    Etat civil ,Coordonnées ,Données relatives à d...\n",
              "1636    Coordonnées ,Données d'identification ou d'accès \n",
              "1637    Etat civil ,Coordonnées ,Données relatives à d...\n",
              "1638    Etat civil ,NIR ,Coordonnées ,Données relative...\n",
              "1639     Etat civil ,Coordonnées ,Données de localisation\n",
              "1640                             Etat civil ,Coordonnées \n",
              "1641    Etat civil ,NIR ,Coordonnées ,Données d'identi...\n",
              "1642    Etat civil ,Coordonnées ,Données d'identificat...\n",
              "1643                             Etat civil ,Coordonnées \n",
              "1644    Etat civil ,Coordonnées ,Données d'identificat...\n",
              "1645    Les données concernées ne sont pas connues pou...\n",
              "1646                             Etat civil ,Coordonnées \n",
              "1647                             Etat civil ,Coordonnées \n",
              "1648    Etat civil ,Coordonnées ,Données d'identificat...\n",
              "1649                                         Coordonnées \n",
              "Name: Typologie des données impactées, Length: 1650, dtype: object"
            ]
          },
          "metadata": {
            "tags": []
          },
          "execution_count": 102
        }
      ]
    },
    {
      "cell_type": "code",
      "metadata": {
        "id": "h43JMuwoq2XP",
        "colab_type": "code",
        "colab": {
          "base_uri": "https://localhost:8080/",
          "height": 277
        },
        "outputId": "a95a1b12-099d-4400-d78a-a4762b798868"
      },
      "source": [
        "typologie = series_to_count(cleaned_typologie)\n",
        "\n",
        "new_index = [key.strip().capitalize() for key in typologie.index]\n",
        "typologie.index = new_index\n",
        "\n",
        "typologie"
      ],
      "execution_count": 103,
      "outputs": [
        {
          "output_type": "execute_result",
          "data": {
            "text/plain": [
              "Etat civil                                                   1196\n",
              "Coordonnées                                                  1182\n",
              "Données relatives à des informations financières              632\n",
              "Économiques                                                   632\n",
              "Données d'identification ou d'accès                           469\n",
              "La violation concerne d'autres données                        323\n",
              "Nir                                                           159\n",
              "Documents officiels                                           140\n",
              "Données de localisation                                       101\n",
              "Les données concernées ne sont pas connues pour le moment      85\n",
              "Données relatives à des infractions                            35\n",
              "Condamnations                                                  35\n",
              "Mesures de sûreté                                              35\n",
              "Inconnu                                                        12\n",
              "Name: Typologie des données impactées, dtype: int64"
            ]
          },
          "metadata": {
            "tags": []
          },
          "execution_count": 103
        }
      ]
    },
    {
      "cell_type": "code",
      "metadata": {
        "id": "LHPzLYHCs0UN",
        "colab_type": "code",
        "colab": {
          "base_uri": "https://localhost:8080/",
          "height": 260
        },
        "outputId": "683ec6a3-f899-49ec-e717-81f7b19a2a26"
      },
      "source": [
        "cleaned_origine = df[\"Origine de l'incident\"].apply(remove_text_inside_brackets)\n",
        "\n",
        "origine = series_to_count(cleaned_origine)\n",
        "\n",
        "new_index = [key.strip().capitalize() for key in origine.index]\n",
        "origine.index = new_index\n",
        "\n",
        "origine"
      ],
      "execution_count": 104,
      "outputs": [
        {
          "output_type": "execute_result",
          "data": {
            "text/plain": [
              "Piratage                                                                                            759\n",
              "Logiciel malveillant  et/ou hameçonnage                                                             759\n",
              "Autre                                                                                               305\n",
              "Données personnelles envoyées à un mauvais destinataire                                             224\n",
              "Publication non volontaire d'informations                                                           179\n",
              "Equipement perdu ou volé                                                                            161\n",
              "Données de la mauvaise personne affichées sur le portail du client                                   57\n",
              "Papier perdu                                                                                         49\n",
              "Volé ou laissé accessible dans un endroit non sécurisé                                               49\n",
              "Informations personnelles divulguées de façon verbale                                                16\n",
              "Courrier perdu ou ouvert avant d'être retourné à l'envoyeur                                          15\n",
              "Mise au rebut de documents papier contenant des données personnelles sans destruction physique        6\n",
              "Mise au rebut d'appareils numériques contenant des données personnelles sans effacement sécurisé      4\n",
              "Name: Origine de l'incident, dtype: int64"
            ]
          },
          "metadata": {
            "tags": []
          },
          "execution_count": 104
        }
      ]
    },
    {
      "cell_type": "code",
      "metadata": {
        "id": "lNTNUDXItqLQ",
        "colab_type": "code",
        "colab": {
          "base_uri": "https://localhost:8080/",
          "height": 139
        },
        "outputId": "d763c188-2390-40b6-fad5-cf0bd2574390"
      },
      "source": [
        "cleaned_cause = df[\"Causes de l'incident\"].apply(remove_text_inside_brackets)\n",
        "\n",
        "cause = series_to_count(cleaned_cause)\n",
        "\n",
        "new_index = [key.strip().capitalize() for key in cause.index]\n",
        "cause.index = new_index\n",
        "\n",
        "cause"
      ],
      "execution_count": 105,
      "outputs": [
        {
          "output_type": "execute_result",
          "data": {
            "text/plain": [
              "Acte externe malveillant    920\n",
              "Acte interne accidentel     373\n",
              "Inconnu                     144\n",
              "Autre                       125\n",
              "Acte externe accidentel     107\n",
              "Acte interne malveillant     88\n",
              "Name: Causes de l'incident, dtype: int64"
            ]
          },
          "metadata": {
            "tags": []
          },
          "execution_count": 105
        }
      ]
    },
    {
      "cell_type": "code",
      "metadata": {
        "id": "cNoE1KVdvYbC",
        "colab_type": "code",
        "colab": {}
      },
      "source": [
        "french_month_to_num = {\n",
        "    'jan': 1,\n",
        "    'fév': 2,\n",
        "    'fev': 2,\n",
        "    'mar': 3,\n",
        "    'avr': 4,\n",
        "    'mai': 5,\n",
        "    'juin': 6,\n",
        "    'juil': 7,\n",
        "    'aou': 8,\n",
        "    'aoû': 8,\n",
        "    'sep': 9,\n",
        "    'oct': 10,\n",
        "    'nov': 11,\n",
        "    'déc': 12,\n",
        "    'dec': 12\n",
        "}"
      ],
      "execution_count": 0,
      "outputs": []
    },
    {
      "cell_type": "code",
      "metadata": {
        "id": "VYszfRYlwjEK",
        "colab_type": "code",
        "colab": {}
      },
      "source": [
        "df['Mois'] = df['Date de réception de la notification'].str.lower().apply(\n",
        "    lambda s: french_month_to_num[s[:4]]\n",
        "              if s[:4] in french_month_to_num\n",
        "              else french_month_to_num[s[:3]]\n",
        ")"
      ],
      "execution_count": 0,
      "outputs": []
    },
    {
      "cell_type": "code",
      "metadata": {
        "id": "Txr81mrLxNAI",
        "colab_type": "code",
        "colab": {
          "base_uri": "https://localhost:8080/",
          "height": 225
        },
        "outputId": "fa87b826-ae63-405e-d95a-2869a621194f"
      },
      "source": [
        "df['Mois'].value_counts()"
      ],
      "execution_count": 44,
      "outputs": [
        {
          "output_type": "execute_result",
          "data": {
            "text/plain": [
              "6     322\n",
              "1     204\n",
              "2     173\n",
              "7     167\n",
              "11    157\n",
              "10    149\n",
              "12    128\n",
              "8     127\n",
              "9     103\n",
              "3     103\n",
              "5      17\n",
              "Name: Mois, dtype: int64"
            ]
          },
          "metadata": {
            "tags": []
          },
          "execution_count": 44
        }
      ]
    },
    {
      "cell_type": "code",
      "metadata": {
        "id": "mpBKxQRAxSqn",
        "colab_type": "code",
        "colab": {
          "base_uri": "https://localhost:8080/",
          "height": 69
        },
        "outputId": "3c0f2a78-d8e3-4009-eb65-506fae5771fb"
      },
      "source": [
        "import re\n",
        "df['Année'] = df['Date de réception de la notification'].apply(lambda s: re.findall('\\d+', s)[0]).astype(int)\n",
        "df['Année'] = df['Année'].apply(lambda y: y + 2000 if y < 1000 else y)\n",
        "df['Année'].value_counts()"
      ],
      "execution_count": 50,
      "outputs": [
        {
          "output_type": "execute_result",
          "data": {
            "text/plain": [
              "2018    1170\n",
              "2019     480\n",
              "Name: Année, dtype: int64"
            ]
          },
          "metadata": {
            "tags": []
          },
          "execution_count": 50
        }
      ]
    },
    {
      "cell_type": "code",
      "metadata": {
        "id": "jrpFQWOsy1o2",
        "colab_type": "code",
        "colab": {
          "base_uri": "https://localhost:8080/",
          "height": 55
        },
        "outputId": "3084bca4-6cf3-4432-da48-2fb0c006604b"
      },
      "source": [
        "col_tuples = []\n",
        "for col in [violation, typologie, origine, cause]:\n",
        "    for key in col.index:\n",
        "        col_tuples.append(\"|\".join((col.name, key)))\n",
        " \n",
        "print(col_tuples)"
      ],
      "execution_count": 137,
      "outputs": [
        {
          "output_type": "stream",
          "text": [
            "['Natures de la violation|Perte de la confidentialité', 'Natures de la violation|Perte de la disponibilité', \"Natures de la violation|Perte de l'intégrité\", 'Typologie des données impactées|Etat civil', 'Typologie des données impactées|Coordonnées', 'Typologie des données impactées|Données relatives à des informations financières', 'Typologie des données impactées|Économiques', \"Typologie des données impactées|Données d'identification ou d'accès\", \"Typologie des données impactées|La violation concerne d'autres données\", 'Typologie des données impactées|Nir', 'Typologie des données impactées|Documents officiels', 'Typologie des données impactées|Données de localisation', 'Typologie des données impactées|Les données concernées ne sont pas connues pour le moment', 'Typologie des données impactées|Données relatives à des infractions', 'Typologie des données impactées|Condamnations', 'Typologie des données impactées|Mesures de sûreté', 'Typologie des données impactées|Inconnu', \"Origine de l'incident|Piratage\", \"Origine de l'incident|Logiciel malveillant  et/ou hameçonnage\", \"Origine de l'incident|Autre\", \"Origine de l'incident|Données personnelles envoyées à un mauvais destinataire\", \"Origine de l'incident|Publication non volontaire d'informations\", \"Origine de l'incident|Equipement perdu ou volé\", \"Origine de l'incident|Données de la mauvaise personne affichées sur le portail du client\", \"Origine de l'incident|Papier perdu\", \"Origine de l'incident|Volé ou laissé accessible dans un endroit non sécurisé\", \"Origine de l'incident|Informations personnelles divulguées de façon verbale\", \"Origine de l'incident|Courrier perdu ou ouvert avant d'être retourné à l'envoyeur\", \"Origine de l'incident|Mise au rebut de documents papier contenant des données personnelles sans destruction physique\", \"Origine de l'incident|Mise au rebut d'appareils numériques contenant des données personnelles sans effacement sécurisé\", \"Causes de l'incident|Acte externe malveillant\", \"Causes de l'incident|Acte interne accidentel\", \"Causes de l'incident|Inconnu\", \"Causes de l'incident|Autre\", \"Causes de l'incident|Acte externe accidentel\", \"Causes de l'incident|Acte interne malveillant\"]\n"
          ],
          "name": "stdout"
        }
      ]
    },
    {
      "cell_type": "code",
      "metadata": {
        "id": "w3G6ybka1J3H",
        "colab_type": "code",
        "colab": {}
      },
      "source": [
        "df_multiindex = pd.DataFrame(index=df.index, columns=col_tuples)"
      ],
      "execution_count": 0,
      "outputs": []
    },
    {
      "cell_type": "code",
      "metadata": {
        "id": "AudUu6NH1sjo",
        "colab_type": "code",
        "colab": {
          "base_uri": "https://localhost:8080/",
          "height": 395
        },
        "outputId": "d754aee6-e5b3-47ac-a4d2-ebcab6628c81"
      },
      "source": [
        "for col_name in df_multiindex.columns:\n",
        "    col, key = col_name.split(\"|\")\n",
        "    df_multiindex[col_name] = df[col].str.lower().str.contains(key.lower()).astype(np.uint8)\n",
        "df_multiindex.head()"
      ],
      "execution_count": 139,
      "outputs": [
        {
          "output_type": "execute_result",
          "data": {
            "text/html": [
              "<div>\n",
              "<style scoped>\n",
              "    .dataframe tbody tr th:only-of-type {\n",
              "        vertical-align: middle;\n",
              "    }\n",
              "\n",
              "    .dataframe tbody tr th {\n",
              "        vertical-align: top;\n",
              "    }\n",
              "\n",
              "    .dataframe thead th {\n",
              "        text-align: right;\n",
              "    }\n",
              "</style>\n",
              "<table border=\"1\" class=\"dataframe\">\n",
              "  <thead>\n",
              "    <tr style=\"text-align: right;\">\n",
              "      <th></th>\n",
              "      <th>Natures de la violation|Perte de la confidentialité</th>\n",
              "      <th>Natures de la violation|Perte de la disponibilité</th>\n",
              "      <th>Natures de la violation|Perte de l'intégrité</th>\n",
              "      <th>Typologie des données impactées|Etat civil</th>\n",
              "      <th>Typologie des données impactées|Coordonnées</th>\n",
              "      <th>Typologie des données impactées|Données relatives à des informations financières</th>\n",
              "      <th>Typologie des données impactées|Économiques</th>\n",
              "      <th>Typologie des données impactées|Données d'identification ou d'accès</th>\n",
              "      <th>Typologie des données impactées|La violation concerne d'autres données</th>\n",
              "      <th>Typologie des données impactées|Nir</th>\n",
              "      <th>Typologie des données impactées|Documents officiels</th>\n",
              "      <th>Typologie des données impactées|Données de localisation</th>\n",
              "      <th>Typologie des données impactées|Les données concernées ne sont pas connues pour le moment</th>\n",
              "      <th>Typologie des données impactées|Données relatives à des infractions</th>\n",
              "      <th>Typologie des données impactées|Condamnations</th>\n",
              "      <th>Typologie des données impactées|Mesures de sûreté</th>\n",
              "      <th>Typologie des données impactées|Inconnu</th>\n",
              "      <th>Origine de l'incident|Piratage</th>\n",
              "      <th>Origine de l'incident|Logiciel malveillant  et/ou hameçonnage</th>\n",
              "      <th>Origine de l'incident|Autre</th>\n",
              "      <th>Origine de l'incident|Données personnelles envoyées à un mauvais destinataire</th>\n",
              "      <th>Origine de l'incident|Publication non volontaire d'informations</th>\n",
              "      <th>Origine de l'incident|Equipement perdu ou volé</th>\n",
              "      <th>Origine de l'incident|Données de la mauvaise personne affichées sur le portail du client</th>\n",
              "      <th>Origine de l'incident|Papier perdu</th>\n",
              "      <th>Origine de l'incident|Volé ou laissé accessible dans un endroit non sécurisé</th>\n",
              "      <th>Origine de l'incident|Informations personnelles divulguées de façon verbale</th>\n",
              "      <th>Origine de l'incident|Courrier perdu ou ouvert avant d'être retourné à l'envoyeur</th>\n",
              "      <th>Origine de l'incident|Mise au rebut de documents papier contenant des données personnelles sans destruction physique</th>\n",
              "      <th>Origine de l'incident|Mise au rebut d'appareils numériques contenant des données personnelles sans effacement sécurisé</th>\n",
              "      <th>Causes de l'incident|Acte externe malveillant</th>\n",
              "      <th>Causes de l'incident|Acte interne accidentel</th>\n",
              "      <th>Causes de l'incident|Inconnu</th>\n",
              "      <th>Causes de l'incident|Autre</th>\n",
              "      <th>Causes de l'incident|Acte externe accidentel</th>\n",
              "      <th>Causes de l'incident|Acte interne malveillant</th>\n",
              "    </tr>\n",
              "  </thead>\n",
              "  <tbody>\n",
              "    <tr>\n",
              "      <th>0</th>\n",
              "      <td>1</td>\n",
              "      <td>0</td>\n",
              "      <td>0</td>\n",
              "      <td>0</td>\n",
              "      <td>1</td>\n",
              "      <td>0</td>\n",
              "      <td>0</td>\n",
              "      <td>0</td>\n",
              "      <td>0</td>\n",
              "      <td>0</td>\n",
              "      <td>0</td>\n",
              "      <td>0</td>\n",
              "      <td>0</td>\n",
              "      <td>0</td>\n",
              "      <td>0</td>\n",
              "      <td>0</td>\n",
              "      <td>0</td>\n",
              "      <td>0</td>\n",
              "      <td>0</td>\n",
              "      <td>0</td>\n",
              "      <td>0</td>\n",
              "      <td>1</td>\n",
              "      <td>0</td>\n",
              "      <td>0</td>\n",
              "      <td>0</td>\n",
              "      <td>0</td>\n",
              "      <td>0</td>\n",
              "      <td>0</td>\n",
              "      <td>0</td>\n",
              "      <td>0</td>\n",
              "      <td>0</td>\n",
              "      <td>1</td>\n",
              "      <td>0</td>\n",
              "      <td>0</td>\n",
              "      <td>0</td>\n",
              "      <td>0</td>\n",
              "    </tr>\n",
              "    <tr>\n",
              "      <th>1</th>\n",
              "      <td>1</td>\n",
              "      <td>0</td>\n",
              "      <td>0</td>\n",
              "      <td>1</td>\n",
              "      <td>1</td>\n",
              "      <td>1</td>\n",
              "      <td>1</td>\n",
              "      <td>1</td>\n",
              "      <td>0</td>\n",
              "      <td>0</td>\n",
              "      <td>0</td>\n",
              "      <td>0</td>\n",
              "      <td>0</td>\n",
              "      <td>0</td>\n",
              "      <td>0</td>\n",
              "      <td>0</td>\n",
              "      <td>0</td>\n",
              "      <td>0</td>\n",
              "      <td>0</td>\n",
              "      <td>0</td>\n",
              "      <td>1</td>\n",
              "      <td>0</td>\n",
              "      <td>0</td>\n",
              "      <td>0</td>\n",
              "      <td>0</td>\n",
              "      <td>0</td>\n",
              "      <td>0</td>\n",
              "      <td>0</td>\n",
              "      <td>0</td>\n",
              "      <td>0</td>\n",
              "      <td>0</td>\n",
              "      <td>1</td>\n",
              "      <td>0</td>\n",
              "      <td>0</td>\n",
              "      <td>0</td>\n",
              "      <td>0</td>\n",
              "    </tr>\n",
              "    <tr>\n",
              "      <th>2</th>\n",
              "      <td>1</td>\n",
              "      <td>0</td>\n",
              "      <td>0</td>\n",
              "      <td>1</td>\n",
              "      <td>1</td>\n",
              "      <td>1</td>\n",
              "      <td>1</td>\n",
              "      <td>1</td>\n",
              "      <td>0</td>\n",
              "      <td>0</td>\n",
              "      <td>0</td>\n",
              "      <td>0</td>\n",
              "      <td>0</td>\n",
              "      <td>0</td>\n",
              "      <td>0</td>\n",
              "      <td>0</td>\n",
              "      <td>0</td>\n",
              "      <td>0</td>\n",
              "      <td>0</td>\n",
              "      <td>0</td>\n",
              "      <td>1</td>\n",
              "      <td>0</td>\n",
              "      <td>0</td>\n",
              "      <td>0</td>\n",
              "      <td>0</td>\n",
              "      <td>0</td>\n",
              "      <td>0</td>\n",
              "      <td>0</td>\n",
              "      <td>0</td>\n",
              "      <td>0</td>\n",
              "      <td>0</td>\n",
              "      <td>0</td>\n",
              "      <td>0</td>\n",
              "      <td>1</td>\n",
              "      <td>0</td>\n",
              "      <td>0</td>\n",
              "    </tr>\n",
              "    <tr>\n",
              "      <th>3</th>\n",
              "      <td>1</td>\n",
              "      <td>0</td>\n",
              "      <td>0</td>\n",
              "      <td>1</td>\n",
              "      <td>1</td>\n",
              "      <td>1</td>\n",
              "      <td>1</td>\n",
              "      <td>0</td>\n",
              "      <td>0</td>\n",
              "      <td>0</td>\n",
              "      <td>1</td>\n",
              "      <td>0</td>\n",
              "      <td>0</td>\n",
              "      <td>0</td>\n",
              "      <td>0</td>\n",
              "      <td>0</td>\n",
              "      <td>0</td>\n",
              "      <td>0</td>\n",
              "      <td>0</td>\n",
              "      <td>0</td>\n",
              "      <td>0</td>\n",
              "      <td>1</td>\n",
              "      <td>0</td>\n",
              "      <td>1</td>\n",
              "      <td>0</td>\n",
              "      <td>0</td>\n",
              "      <td>0</td>\n",
              "      <td>0</td>\n",
              "      <td>0</td>\n",
              "      <td>0</td>\n",
              "      <td>0</td>\n",
              "      <td>1</td>\n",
              "      <td>0</td>\n",
              "      <td>0</td>\n",
              "      <td>0</td>\n",
              "      <td>0</td>\n",
              "    </tr>\n",
              "    <tr>\n",
              "      <th>4</th>\n",
              "      <td>1</td>\n",
              "      <td>0</td>\n",
              "      <td>0</td>\n",
              "      <td>1</td>\n",
              "      <td>0</td>\n",
              "      <td>0</td>\n",
              "      <td>0</td>\n",
              "      <td>0</td>\n",
              "      <td>1</td>\n",
              "      <td>0</td>\n",
              "      <td>0</td>\n",
              "      <td>0</td>\n",
              "      <td>0</td>\n",
              "      <td>0</td>\n",
              "      <td>0</td>\n",
              "      <td>0</td>\n",
              "      <td>0</td>\n",
              "      <td>0</td>\n",
              "      <td>0</td>\n",
              "      <td>0</td>\n",
              "      <td>0</td>\n",
              "      <td>1</td>\n",
              "      <td>0</td>\n",
              "      <td>0</td>\n",
              "      <td>0</td>\n",
              "      <td>0</td>\n",
              "      <td>0</td>\n",
              "      <td>0</td>\n",
              "      <td>0</td>\n",
              "      <td>0</td>\n",
              "      <td>0</td>\n",
              "      <td>1</td>\n",
              "      <td>0</td>\n",
              "      <td>0</td>\n",
              "      <td>0</td>\n",
              "      <td>0</td>\n",
              "    </tr>\n",
              "  </tbody>\n",
              "</table>\n",
              "</div>"
            ],
            "text/plain": [
              "   Natures de la violation|Perte de la confidentialité  ...  Causes de l'incident|Acte interne malveillant\n",
              "0                                                  1    ...                                              0\n",
              "1                                                  1    ...                                              0\n",
              "2                                                  1    ...                                              0\n",
              "3                                                  1    ...                                              0\n",
              "4                                                  1    ...                                              0\n",
              "\n",
              "[5 rows x 36 columns]"
            ]
          },
          "metadata": {
            "tags": []
          },
          "execution_count": 139
        }
      ]
    },
    {
      "cell_type": "code",
      "metadata": {
        "id": "da-qGF0Z18ca",
        "colab_type": "code",
        "colab": {}
      },
      "source": [
        "final_df = pd.DataFrame(index=df.index)\n",
        "final_df[['Mois de réception de la notification',\n",
        "          'Année de réception de la notification',\n",
        "          \"Secteur d'activité de l'organisme concerné\",\n",
        "          \"Nombre de personnes impactées\",\n",
        "          \"Données sensibles\",\n",
        "          \"Information des personnes\"]] = df[['Mois', 'Année', \"Secteur d'activité de l'organisme concerné\", \"Nombre de personnes impactées\", \"Données sensibles\", \"Information des personnes\"]]"
      ],
      "execution_count": 0,
      "outputs": []
    },
    {
      "cell_type": "code",
      "metadata": {
        "id": "m36BPwW25rod",
        "colab_type": "code",
        "colab": {
          "base_uri": "https://localhost:8080/",
          "height": 271
        },
        "outputId": "80fc76bb-70f8-4eee-e25f-03303ab6e223"
      },
      "source": [
        "final_df.head()"
      ],
      "execution_count": 141,
      "outputs": [
        {
          "output_type": "execute_result",
          "data": {
            "text/html": [
              "<div>\n",
              "<style scoped>\n",
              "    .dataframe tbody tr th:only-of-type {\n",
              "        vertical-align: middle;\n",
              "    }\n",
              "\n",
              "    .dataframe tbody tr th {\n",
              "        vertical-align: top;\n",
              "    }\n",
              "\n",
              "    .dataframe thead th {\n",
              "        text-align: right;\n",
              "    }\n",
              "</style>\n",
              "<table border=\"1\" class=\"dataframe\">\n",
              "  <thead>\n",
              "    <tr style=\"text-align: right;\">\n",
              "      <th></th>\n",
              "      <th>Mois de réception de la notification</th>\n",
              "      <th>Année de réception de la notification</th>\n",
              "      <th>Secteur d'activité de l'organisme concerné</th>\n",
              "      <th>Nombre de personnes impactées</th>\n",
              "      <th>Données sensibles</th>\n",
              "      <th>Information des personnes</th>\n",
              "    </tr>\n",
              "  </thead>\n",
              "  <tbody>\n",
              "    <tr>\n",
              "      <th>0</th>\n",
              "      <td>3</td>\n",
              "      <td>2019</td>\n",
              "      <td>Activités spécialisées, scientifiques et techn...</td>\n",
              "      <td>Entre 301 et 5000 personnes</td>\n",
              "      <td>Inconnu</td>\n",
              "      <td>Oui, les personnes ont été informées</td>\n",
              "    </tr>\n",
              "    <tr>\n",
              "      <th>1</th>\n",
              "      <td>3</td>\n",
              "      <td>2019</td>\n",
              "      <td>Activités immobilières</td>\n",
              "      <td>Entre 301 et 5000 personnes</td>\n",
              "      <td>Inconnu</td>\n",
              "      <td>Non déterminé pour le moment</td>\n",
              "    </tr>\n",
              "    <tr>\n",
              "      <th>2</th>\n",
              "      <td>3</td>\n",
              "      <td>2019</td>\n",
              "      <td>Administration publique</td>\n",
              "      <td>Entre 6 et 50 personnes</td>\n",
              "      <td>Inconnu</td>\n",
              "      <td>Oui, les personnes ont été informées</td>\n",
              "    </tr>\n",
              "    <tr>\n",
              "      <th>3</th>\n",
              "      <td>3</td>\n",
              "      <td>2019</td>\n",
              "      <td>Activités financières et d'assurance</td>\n",
              "      <td>Entre 0 et 5 personnes</td>\n",
              "      <td>Inconnu</td>\n",
              "      <td>Non, mais elles le seront</td>\n",
              "    </tr>\n",
              "    <tr>\n",
              "      <th>4</th>\n",
              "      <td>3</td>\n",
              "      <td>2019</td>\n",
              "      <td>Activités financières et d'assurance</td>\n",
              "      <td>Entre 0 et 5 personnes</td>\n",
              "      <td>Inconnu</td>\n",
              "      <td>Non ils ne le seront pas</td>\n",
              "    </tr>\n",
              "  </tbody>\n",
              "</table>\n",
              "</div>"
            ],
            "text/plain": [
              "   Mois de réception de la notification  ...             Information des personnes\n",
              "0                                     3  ...  Oui, les personnes ont été informées\n",
              "1                                     3  ...          Non déterminé pour le moment\n",
              "2                                     3  ...  Oui, les personnes ont été informées\n",
              "3                                     3  ...             Non, mais elles le seront\n",
              "4                                     3  ...              Non ils ne le seront pas\n",
              "\n",
              "[5 rows x 6 columns]"
            ]
          },
          "metadata": {
            "tags": []
          },
          "execution_count": 141
        }
      ]
    },
    {
      "cell_type": "code",
      "metadata": {
        "id": "zpq91sRf6aTr",
        "colab_type": "code",
        "colab": {}
      },
      "source": [
        "final_df = pd.concat((final_df, df_multiindex), axis=1)"
      ],
      "execution_count": 0,
      "outputs": []
    },
    {
      "cell_type": "code",
      "metadata": {
        "id": "RMFzzNv4P_aU",
        "colab_type": "code",
        "colab": {}
      },
      "source": [
        "import csv\n",
        "final_df.to_csv(\"Notifications à la CNIL.csv\", sep=\",\", encoding='utf-8', index=False, quoting=csv.QUOTE_NONNUMERIC)"
      ],
      "execution_count": 0,
      "outputs": []
    },
    {
      "cell_type": "code",
      "metadata": {
        "id": "XYJMRPSkQRTl",
        "colab_type": "code",
        "colab": {}
      },
      "source": [
        "from google.colab import files\n",
        "files.download(\"Notifications à la CNIL.csv\")"
      ],
      "execution_count": 0,
      "outputs": []
    }
  ]
}